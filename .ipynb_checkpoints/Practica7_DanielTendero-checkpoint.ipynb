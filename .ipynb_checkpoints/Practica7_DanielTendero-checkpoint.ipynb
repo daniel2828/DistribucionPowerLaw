{
 "cells": [
  {
   "cell_type": "code",
   "execution_count": 111,
   "metadata": {},
   "outputs": [],
   "source": [
    "import networkx as nx # librería de análisis de redes\n",
    "import numpy as np # librería de computación numérica\n",
    "import matplotlib.pyplot as plt\n",
    "import pandas as pd\n",
    "from scipy.stats import linregress\n",
    "%matplotlib inline"
   ]
  },
  {
   "cell_type": "code",
   "execution_count": 112,
   "metadata": {},
   "outputs": [],
   "source": [
    "Gb=nx.read_gexf(\"internet_routers-22july06-2.gexf\")"
   ]
  },
  {
   "cell_type": "code",
   "execution_count": 113,
   "metadata": {},
   "outputs": [
    {
     "name": "stdout",
     "output_type": "stream",
     "text": [
      "Nodos=22963,Enlaces=48436\n",
      "Grado maximo 2390\n",
      "Grado mínimo 1\n",
      "Grado medio 4.218612550624918\n"
     ]
    }
   ],
   "source": [
    "#Numero de nodos y enlaces\n",
    "print('Nodos=%i,Enlaces=%i' % (Gb.number_of_nodes(),Gb.number_of_edges()))\n",
    "#Grado\n",
    "degrees = np.array([x[1] for x in Gb.degree()])\n",
    "print(\"Grado maximo\", max(degrees))\n",
    "print(\"Grado mínimo\", min(degrees))\n",
    "print(\"Grado medio\" , sum(degrees)/len(degrees))"
   ]
  },
  {
   "cell_type": "code",
   "execution_count": 114,
   "metadata": {},
   "outputs": [
    {
     "data": {
      "image/png": "[encoded data removed]",
      "text/plain": [
       "<Figure size 432x288 with 1 Axes>"
      ]
     },
     "metadata": {
      "needs_background": "light"
     },
     "output_type": "display_data"
    }
   ],
   "source": [
    "#Histograma con escala lineal\n",
    "plt.hist(degrees,density=False)\n",
    "plt.xlabel('degree');\n",
    "plt.ylabel('freq');\n",
    "plt.title('degree distribution');"
   ]
  },
  {
   "cell_type": "code",
   "execution_count": 115,
   "metadata": {},
   "outputs": [
    {
     "data": {
      "image/png": "[encoded data removed]",
      "text/plain": [
       "<Figure size 432x288 with 1 Axes>"
      ]
     },
     "metadata": {
      "needs_background": "light"
     },
     "output_type": "display_data"
    }
   ],
   "source": [
    "#Histograma con escala logarítmica\n",
    "plt.hist(degrees,density=False);\n",
    "plt.xlabel('degree[log]');\n",
    "plt.ylabel('freq[log]');\n",
    "plt.title('degree distribution');\n",
    "plt.xscale('log');\n",
    "plt.yscale('log');\n",
    "#Se visualiza mejor en escala logarítmica"
   ]
  },
  {
   "cell_type": "code",
   "execution_count": 116,
   "metadata": {},
   "outputs": [
    {
     "data": {
      "image/png": "[encoded data removed]",
      "text/plain": [
       "<Figure size 432x288 with 1 Axes>"
      ]
     },
     "metadata": {
      "needs_background": "light"
     },
     "output_type": "display_data"
    }
   ],
   "source": [
    "#Clases para la distribución de grado\n",
    "clases=np.array([2**x for x in range(1,6)])\n",
    "\n",
    "# Rango de las clases para normalizar\n",
    "rango=clases[1:]-clases[:-1]\n",
    "(n,x)=np.histogram(degrees,bins=clases) # n (frecuencia), x (clases)\n",
    "# Normalizamos n (frecuencia)\n",
    "n=n/rango\n",
    "plt.bar(x[:-1],n,width=rango,facecolor='blue', alpha=0.5,align='edge')\n",
    "plt.yscale('log');\n",
    "plt.xscale('log');\n",
    "plt.xlabel('degree [log]');\n",
    "plt.ylabel('frequency [log]');\n",
    "plt.title('Degree distribution (logarithmic bins)');"
   ]
  },
  {
   "cell_type": "code",
   "execution_count": 117,
   "metadata": {},
   "outputs": [
    {
     "name": "stdout",
     "output_type": "stream",
     "text": [
      "Valor R2: -0.6369, p-valor: 0.3631\n"
     ]
    }
   ],
   "source": [
    "# Ajuste de una recta a los valores\n",
    "slope, intercept, r_value, p_value, std_err = linregress(x[0:-1],n)\n",
    "print('Valor R2: %.4f, p-valor: %.4f' %(r_value,p_value))"
   ]
  },
  {
   "cell_type": "code",
   "execution_count": 118,
   "metadata": {},
   "outputs": [
    {
     "name": "stdout",
     "output_type": "stream",
     "text": [
      "3        0.000044\n",
      "2        0.000087\n",
      "14       0.000131\n",
      "22       0.000174\n",
      "58       0.000218\n",
      "           ...   \n",
      "5529     0.999826\n",
      "13049    0.999869\n",
      "8797     0.999913\n",
      "13053    0.999956\n",
      "22962    1.000000\n",
      "Name: ri/n, Length: 22963, dtype: float64\n",
      "[4.35483169e-05 8.70966337e-05 1.30644951e-04 ... 9.99912903e-01\n",
      " 9.99956452e-01 1.00000000e+00]\n"
     ]
    }
   ],
   "source": [
    "dfP = pd.DataFrame(degrees, columns = ['k'])\n",
    "dfP = dfP.sort_values(by=['k'], ascending=False)\n",
    "numRank = range(1,len(degrees)+1)\n",
    "dfP[\"ri\"] = numRank\n",
    "dfP[\"ri/n\"] = dfP[\"ri\"]/len(degrees)\n",
    "print(dfP[\"ri/n\"])\n",
    "riN = np.array(dfP[\"ri/n\"])\n",
    "ki = np.array(dfP[\"k\"])\n",
    "print(riN)\n"
   ]
  },
  {
   "cell_type": "code",
   "execution_count": 119,
   "metadata": {},
   "outputs": [
    {
     "ename": "ValueError",
     "evalue": "operands could not be broadcast together with shapes (22962,) (4,) ",
     "output_type": "error",
     "traceback": [
      "\u001b[1;31m---------------------------------------------------------------------------\u001b[0m",
      "\u001b[1;31mValueError\u001b[0m                                Traceback (most recent call last)",
      "\u001b[1;32m<ipython-input-119-7f0de7da0c6f>\u001b[0m in \u001b[0;36m<module>\u001b[1;34m\u001b[0m\n\u001b[0;32m      1\u001b[0m \u001b[1;33m(\u001b[0m\u001b[0mn\u001b[0m\u001b[1;33m,\u001b[0m\u001b[0mx\u001b[0m\u001b[1;33m,\u001b[0m\u001b[0mp\u001b[0m\u001b[1;33m)\u001b[0m\u001b[1;33m=\u001b[0m\u001b[0mplt\u001b[0m\u001b[1;33m.\u001b[0m\u001b[0mhist\u001b[0m\u001b[1;33m(\u001b[0m\u001b[0mki\u001b[0m\u001b[1;33m,\u001b[0m\u001b[0mbins\u001b[0m\u001b[1;33m=\u001b[0m\u001b[0mriN\u001b[0m\u001b[1;33m)\u001b[0m\u001b[1;33m;\u001b[0m\u001b[1;33m\u001b[0m\u001b[1;33m\u001b[0m\u001b[0m\n\u001b[1;32m----> 2\u001b[1;33m \u001b[0mn\u001b[0m\u001b[1;33m=\u001b[0m\u001b[0mn\u001b[0m\u001b[1;33m/\u001b[0m\u001b[0mrango\u001b[0m\u001b[1;33m\u001b[0m\u001b[1;33m\u001b[0m\u001b[0m\n\u001b[0m\u001b[0;32m      3\u001b[0m \u001b[0mplt\u001b[0m\u001b[1;33m.\u001b[0m\u001b[0mbar\u001b[0m\u001b[1;33m(\u001b[0m\u001b[0mx\u001b[0m\u001b[1;33m[\u001b[0m\u001b[1;33m:\u001b[0m\u001b[1;33m-\u001b[0m\u001b[1;36m1\u001b[0m\u001b[1;33m]\u001b[0m\u001b[1;33m,\u001b[0m\u001b[0mn\u001b[0m\u001b[1;33m,\u001b[0m\u001b[0mwidth\u001b[0m\u001b[1;33m=\u001b[0m\u001b[0mrango\u001b[0m\u001b[1;33m,\u001b[0m\u001b[0mfacecolor\u001b[0m\u001b[1;33m=\u001b[0m\u001b[1;34m'blue'\u001b[0m\u001b[1;33m,\u001b[0m \u001b[0malpha\u001b[0m\u001b[1;33m=\u001b[0m\u001b[1;36m0.5\u001b[0m\u001b[1;33m,\u001b[0m\u001b[0malign\u001b[0m\u001b[1;33m=\u001b[0m\u001b[1;34m'edge'\u001b[0m\u001b[1;33m)\u001b[0m\u001b[1;33m\u001b[0m\u001b[1;33m\u001b[0m\u001b[0m\n\u001b[0;32m      4\u001b[0m \u001b[0mplt\u001b[0m\u001b[1;33m.\u001b[0m\u001b[0myscale\u001b[0m\u001b[1;33m(\u001b[0m\u001b[1;34m'log'\u001b[0m\u001b[1;33m)\u001b[0m\u001b[1;33m;\u001b[0m\u001b[1;33m\u001b[0m\u001b[1;33m\u001b[0m\u001b[0m\n\u001b[0;32m      5\u001b[0m \u001b[0mplt\u001b[0m\u001b[1;33m.\u001b[0m\u001b[0mxscale\u001b[0m\u001b[1;33m(\u001b[0m\u001b[1;34m'log'\u001b[0m\u001b[1;33m)\u001b[0m\u001b[1;33m;\u001b[0m\u001b[1;33m\u001b[0m\u001b[1;33m\u001b[0m\u001b[0m\n",
      "\u001b[1;31mValueError\u001b[0m: operands could not be broadcast together with shapes (22962,) (4,) "
     ]
    },
    {
     "data": {
      "image/png": "[encoded data removed]",
      "text/plain": [
       "<Figure size 432x288 with 1 Axes>"
      ]
     },
     "metadata": {
      "needs_background": "light"
     },
     "output_type": "display_data"
    }
   ],
   "source": [
    "(n,x,p)=plt.hist(ki,bins=riN);\n",
    "n=n/rango\n",
    "plt.bar(x[:-1],n,width=rango,facecolor='blue', alpha=0.5,align='edge')\n",
    "plt.yscale('log');\n",
    "plt.xscale('log');\n",
    "plt.xlabel('degree [log]');\n",
    "plt.ylabel('frequency [log]');\n",
    "plt.title('Degree distribution (logarithmic bins)');"
   ]
  },
  {
   "cell_type": "code",
   "execution_count": null,
   "metadata": {},
   "outputs": [],
   "source": [
    "slope, intercept, r_value, p_value, std_err = linregress(x[0:-1],n)\n",
    "alpha = -(slope-1)\n",
    "print('Pendiente %.4f, alpha: %.4f' %(slope,alpha))"
   ]
  },
  {
   "cell_type": "code",
   "execution_count": null,
   "metadata": {},
   "outputs": [],
   "source": []
  },
  {
   "cell_type": "code",
   "execution_count": null,
   "metadata": {},
   "outputs": [],
   "source": []
  }
 ],
 "metadata": {
  "kernelspec": {
   "display_name": "Python 3",
   "language": "python",
   "name": "python3"
  },
  "language_info": {
   "codemirror_mode": {
    "name": "ipython",
    "version": 3
   },
   "file_extension": ".py",
   "mimetype": "text/x-python",
   "name": "python",
   "nbconvert_exporter": "python",
   "pygments_lexer": "ipython3",
   "version": "3.8.5"
  }
 },
 "nbformat": 4,
 "nbformat_minor": 4
}
